{
 "cells": [
  {
   "cell_type": "code",
   "execution_count": 1,
   "metadata": {},
   "outputs": [
    {
     "name": "stderr",
     "output_type": "stream",
     "text": [
      "ERROR: Could not find a version that satisfies the requirement open3d (from versions: none)\n",
      "ERROR: No matching distribution found for open3d\n"
     ]
    },
    {
     "ename": "ModuleNotFoundError",
     "evalue": "No module named 'open3d'",
     "output_type": "error",
     "traceback": [
      "\u001b[1;31m---------------------------------------------------------------------------\u001b[0m",
      "\u001b[1;31mModuleNotFoundError\u001b[0m                       Traceback (most recent call last)",
      "Input \u001b[1;32mIn [1]\u001b[0m, in \u001b[0;36m<cell line: 10>\u001b[1;34m()\u001b[0m\n\u001b[0;32m      8\u001b[0m \u001b[38;5;28;01mimport\u001b[39;00m \u001b[38;5;21;01moperator\u001b[39;00m \n\u001b[0;32m      9\u001b[0m \u001b[38;5;28;01mfrom\u001b[39;00m \u001b[38;5;21;01mcollections\u001b[39;00m \u001b[38;5;28;01mimport\u001b[39;00m Counter\n\u001b[1;32m---> 10\u001b[0m \u001b[38;5;28;01mimport\u001b[39;00m \u001b[38;5;21;01mopen3d\u001b[39;00m \u001b[38;5;28;01mas\u001b[39;00m \u001b[38;5;21;01mo3d\u001b[39;00m\n\u001b[0;32m     11\u001b[0m \u001b[38;5;28;01mimport\u001b[39;00m \u001b[38;5;21;01mpyvista\u001b[39;00m \u001b[38;5;28;01mas\u001b[39;00m \u001b[38;5;21;01mpv\u001b[39;00m\n\u001b[0;32m     12\u001b[0m \u001b[38;5;28;01mfrom\u001b[39;00m \u001b[38;5;21;01mpyvista\u001b[39;00m \u001b[38;5;28;01mimport\u001b[39;00m examples\n",
      "\u001b[1;31mModuleNotFoundError\u001b[0m: No module named 'open3d'"
     ]
    }
   ],
   "source": [
    "!pip install open3d\n",
    "import pydicom\n",
    "import tkinter as tk\n",
    "from tkinter import filedialog\n",
    "import matplotlib.pyplot as plt\n",
    "import numpy as np\n",
    "import cv2  \n",
    "import operator \n",
    "from collections import Counter\n",
    "import open3d as o3d\n",
    "import pyvista as pv\n",
    "from pyvista import examples\n",
    "import pandas as pd"
   ]
  },
  {
   "cell_type": "code",
   "execution_count": null,
   "metadata": {},
   "outputs": [],
   "source": []
  },
  {
   "cell_type": "code",
   "execution_count": null,
   "metadata": {},
   "outputs": [],
   "source": [
    "class imagen:\n",
    "    def __init__ (self, slice, time, img, info, dir, imgposition, pxspacingx, pxspacingy):\n",
    "        self.slice = slice\n",
    "        self.time = time\n",
    "        self.img = img\n",
    "        self.info = info\n",
    "        self.dir = dir \n",
    "        self.imgposition = imgposition\n",
    "        self.pxspacingx = pxspacingx\n",
    "        self.pxspacingy = pxspacingy\n"
   ]
  },
  {
   "cell_type": "code",
   "execution_count": null,
   "metadata": {},
   "outputs": [],
   "source": [
    "def position_ROI(Dcm_im_ROI):\n",
    "    '''\n",
    "    Give the general position of the ROI used to be copy on every image\n",
    "    '''\n",
    "    Dcm_im8 = (Dcm_im_ROI).astype(np.uint8)\n",
    "    Dcm_im8 = cv2.applyColorMap(Dcm_im8,cv2.COLORMAP_BONE)\n",
    "    showCrosshair = False\n",
    "    r = cv2.selectROI(\"Seleccione el ROI a analizar\", Dcm_im8,showCrosshair)\n",
    "    cv2.destroyAllWindows()\n",
    "    # r = top x, top y, bottom x, bottom y\n",
    "    return r"
   ]
  },
  {
   "cell_type": "code",
   "execution_count": null,
   "metadata": {},
   "outputs": [],
   "source": [
    "def demo_crop_geometry(pcd):\n",
    "    print(\"Demo for manual geometry cropping\")\n",
    "    print(\n",
    "        \"1) Press 'Y' twice to align geometry with negative direction of y-axis\"\n",
    "    )\n",
    "    print(\"2) Press 'K' to lock screen and to switch to selection mode\")\n",
    "    print(\"3) Drag for rectangle selection,\")\n",
    "    print(\"   or use ctrl + left click for polygon selection\")\n",
    "    print(\"4) Press 'C' to get a selected geometry and to save it\")\n",
    "    print(\"5) Press 'F' to switch to freeview mode\")\n",
    "    pcd = pcd\n",
    "    o3d.visualization.draw_geometries_with_editing([pcd])"
   ]
  },
  {
   "cell_type": "code",
   "execution_count": null,
   "metadata": {},
   "outputs": [],
   "source": [
    "image_list, image_slices, pmesh, img_qtt, countmesh, result, dcm_im_all = [], [], [], 0, 0, 0, []\n",
    "# Carga las imágenes, genera lista de slice y genera objetos\n",
    "path = tk.Tk()\n",
    "path.withdraw()\n",
    "file_name = filedialog.askopenfilenames()"
   ]
  },
  {
   "cell_type": "code",
   "execution_count": null,
   "metadata": {},
   "outputs": [],
   "source": [
    "for i in file_name:\n",
    "    Dcm = pydicom.dcmread(i)\n",
    "    # Filtrado de imágenes de magnitud\n",
    "    if str(Dcm[0x2005, 0x116e].value) == 'PCA': \n",
    "        image_list.append('imagen' + str(img_qtt)) # Lista de imágenes\n",
    "        image_slices.append(Dcm[0x2001,0x100a].value)\n",
    "        dir = 0\n",
    "        # Filtrado según componentes\n",
    "        if Dcm[0x2001, 0x101a].value[0]>50 and Dcm[0x2001, 0x101a].value[1]>50 and Dcm[0x2001, 0x101a].value[2]>50: # Imagen neta\n",
    "            dir = 1\n",
    "        elif Dcm[0x2001, 0x101a].value[0]>50 and Dcm[0x2001, 0x101a].value[1]==0 and Dcm[0x2001, 0x101a].value[2]==0: # RL # X\n",
    "            dir = 2\n",
    "        elif Dcm[0x2001, 0x101a].value[0]==0 and Dcm[0x2001, 0x101a].value[1]>50 and Dcm[0x2001, 0x101a].value[2]==0: # AP # Y\n",
    "            dir = 3\n",
    "        elif Dcm[0x2001, 0x101a].value[0]==0 and Dcm[0x2001, 0x101a].value[1]==0 and Dcm[0x2001, 0x101a].value[2]>50: # FH # Z\n",
    "            dir = 4\n",
    "        image_list[img_qtt] = imagen (Dcm[0x2001,0x100a].value, Dcm[0x0018,0x1060].value, np.copy(Dcm.pixel_array), Dcm, dir, Dcm[0x0020,0x0032].value, Dcm[0x0028,0x0030].value[0], Dcm[0x0028,0x0030].value[1]) # Lista de objetos tipo image\n",
    "        dcm_im_all.append(Dcm.pixel_array)\n",
    "        img_qtt = img_qtt + 1"
   ]
  },
  {
   "cell_type": "code",
   "execution_count": null,
   "metadata": {},
   "outputs": [],
   "source": [
    "# Ordena los objetos y calcula variables\n",
    "sorted_image_list  = sorted(image_list, key = operator.attrgetter('dir', 'slice', 'time')) \n",
    "imgslctr = Counter(image_slices) # Número de slice : Cantidad de imágenes\n",
    "slice_qtt = max(imgslctr.keys()) # Cantidad de slices\n",
    "sl_n_imgs = int(max(imgslctr.values())/4) # Cantidad de imágenes por Slice\n",
    "img_by_type = int(img_qtt/4)\n",
    "height, width = (image_list[0].img).shape # Tamaño de las imágenes"
   ]
  },
  {
   "cell_type": "code",
   "execution_count": null,
   "metadata": {},
   "outputs": [],
   "source": [
    "# Matrices a trabajar \n",
    "maskmatrix = np.zeros((slice_qtt,height,width), np.uint16)    # Máscara de todos los slice  \n",
    "maskimage = np.zeros((height,width), np.uint16)               # Máscara unitaria\n",
    "maskimageROI = np.zeros((height,width), np.uint64)            # Máscara unitaria para ROI\n",
    "maskimgmatrix = np.zeros((slice_qtt,height,width), np.uint16) # Máscara pos-ROI de todos los slice\n",
    "reconstucted_matrix = np.zeros((height,width), np.uint16)"
   ]
  },
  {
   "cell_type": "code",
   "execution_count": null,
   "metadata": {},
   "outputs": [],
   "source": [
    "# Genera el Threshold y plasma en un arreglo toda la info (en ese arreglo se va a realizar el ROI)\n",
    "# Verifica que exista info en el slice anterior para eliminar vasos o info no deseada\n",
    "for q in range(slice_qtt): \n",
    "    img_org = sorted_image_list[q * sl_n_imgs].img \n",
    "    prev_img_org = sorted_image_list[(q-1) * sl_n_imgs].img\n",
    "    for j in range(height): \n",
    "        for k in range(width):\n",
    "            if img_org[j,k] <= 80: # 500 para FFE\n",
    "                maskimage[j,k] = 0\n",
    "                maskimageROI[j,k] = maskimageROI[j,k] + 0\n",
    "            else:\n",
    "                if q == 0:\n",
    "                    maskimage[j,k]= 255\n",
    "                    maskimageROI[j,k] = maskimageROI[j,k] + 128\n",
    "                else:\n",
    "                    # Comparacion con el slice anterior (para todos menos para q=0)\n",
    "                    for o in range(3):\n",
    "                        for p in range(3):\n",
    "                            if prev_img_org[j+o-1, k+p-1] == 255:\n",
    "                                result = result + 1\n",
    "                            else:\n",
    "                                result = result\n",
    "                    if result>0:\n",
    "                        maskimage[j+o-1, k+p-1] = 255\n",
    "                        maskimageROI[j+o-1, k+p-1] = maskimageROI[j+o-1, k+p-1] + 128\n",
    "                    else:\n",
    "                        maskimage[j+o-1, k+p-1] = 0\n",
    "                        maskimageROI[j+o-1, k+p-1] = maskimageROI[j+o-1, k+p-1]\n",
    "    \n",
    "# Se realiza el ROI y se elimina la info fuera de él esto es para el slice maximo (me quedaba fuera de rango)\n",
    "    if q == (slice_qtt-1):\n",
    "        utROI = position_ROI(maskimageROI)\n",
    "        for l in range(width):\n",
    "            for m in range(height):\n",
    "                if m>float(utROI[0]) and m<float(utROI[0]+utROI[2]) and l>float(utROI[1]) and l<float(utROI[1]+utROI[3]):\n",
    "                    maskimage[l,m]=maskimage[l,m]\n",
    "                else:\n",
    "                    maskimage[l,m] = 0 \n",
    "    maskimgmatrix[q] = maskimage"
   ]
  },
  {
   "cell_type": "code",
   "execution_count": null,
   "metadata": {},
   "outputs": [],
   "source": [
    "plt.imshow(maskimgmatrix[slice_qtt-1])"
   ]
  },
  {
   "cell_type": "code",
   "execution_count": null,
   "metadata": {},
   "outputs": [],
   "source": [
    "# hago lo mismo que hacia en las lineas anteriores pero para los demas slices\n",
    "\n",
    "for q in range(slice_qtt):\n",
    "    for l in range(width):\n",
    "            for m in range(height):\n",
    "                if m>float(utROI[0]) and m<float(utROI[0]+utROI[2]) and l>float(utROI[1]) and l<float(utROI[1]+utROI[3]):\n",
    "                    maskimgmatrix[q,l,m]=maskimgmatrix[q,l,m]\n",
    "                else:\n",
    "                    maskimgmatrix[q,l,m] = 0"
   ]
  },
  {
   "cell_type": "code",
   "execution_count": null,
   "metadata": {},
   "outputs": [],
   "source": [
    "# Se realiza la deteccion de bordes con sobel\n",
    "for q in range(slice_qtt):\n",
    "    maskimageinv = cv2.flip(maskimgmatrix[q],-1)\n",
    "    sobelx = cv2.Sobel(maskimgmatrix[q],-1,1,0,ksize=1) # Image , DDepth = -1 (uint8) would be the result\n",
    "    sobely = cv2.Sobel(maskimgmatrix[q],-1,0,1,ksize=1) # 1 , 0  for dx   and  0 , 1 for dy\n",
    "    sobeldir = sobelx + sobely\n",
    "    sobelxinv = cv2.Sobel(maskimageinv,-1,1,0,ksize=1) \n",
    "    sobelyinv = cv2.Sobel(maskimageinv,-1,0,1,ksize=1)\n",
    "    sobelinv = sobelxinv + sobelyinv \n",
    "    reconstucted_matrix = cv2.flip(sobelinv,-1)\n",
    "    sobel = sobeldir +  reconstucted_matrix\n",
    "    maskmatrix[q] = sobel\n",
    "\n",
    "    # Seleccion de los valores internos a los bordes \n",
    "    for i in range(height):\n",
    "        for j in range (width):\n",
    "            if (j > 1) and (i > 1): # FIJARME DE OPTIMIZARLO\n",
    "                if (maskmatrix[q][i][j] == 0) and (maskmatrix[q][i-1][j] != 0) and (maskmatrix[q][i][j-1] != 0):\n",
    "                    maskmatrix[q][i][j] = 200 # 200 por poner un valor que sea exclusivo de los pixeles internos\n",
    "    \n",
    "print(maskmatrix)"
   ]
  },
  {
   "cell_type": "code",
   "execution_count": null,
   "metadata": {},
   "outputs": [],
   "source": [
    "# plt.imshow(maskmatrix[0])\n",
    "# plt.imshow(maskmatrix[3])\n",
    "plt.imshow(maskmatrix[10])"
   ]
  },
  {
   "cell_type": "code",
   "execution_count": null,
   "metadata": {},
   "outputs": [],
   "source": [
    "for i in range(slice_qtt):\n",
    "    for j in range(height):\n",
    "        for k in range(width):\n",
    "            if maskmatrix[i][j][k] > 0:\n",
    "                print('hola')"
   ]
  },
  {
   "cell_type": "code",
   "execution_count": null,
   "metadata": {},
   "outputs": [],
   "source": [
    "plt.imshow(maskmatrix[1])"
   ]
  },
  {
   "cell_type": "code",
   "execution_count": null,
   "metadata": {},
   "outputs": [],
   "source": [
    "sorted_image_list[1 * sl_n_imgs].imgposition[2]"
   ]
  },
  {
   "cell_type": "code",
   "execution_count": null,
   "metadata": {},
   "outputs": [],
   "source": [
    "# COPIA COORDENADAS MM Se obtienen las coordenadas limpias de cada uno de los puntos de valor alto post filtro sobel\n",
    "slice_points, slice_cells, coordy, coordx = [], [], 0, 0\n",
    "\n",
    "for q in range (slice_qtt):\n",
    "    # ESTA LINEA ES LO MAS NEFASTO DEL UNIVERSO PERO NECESITO SABER\n",
    "    if sorted_image_list[q * sl_n_imgs].imgposition[2] >= -44.19343 and sorted_image_list[q * sl_n_imgs].imgposition[2] <= -31.0219: #VALORES SACADOS DE PARAVIEW\n",
    "        coordx = sorted_image_list[q * sl_n_imgs].imgposition[0]\n",
    "        coordy = sorted_image_list[q * sl_n_imgs].imgposition[1]\n",
    "        for j in range(height):\n",
    "            for k in range(width):\n",
    "                # print(utROI[3])\n",
    "                if k > int(utROI[1]) and k < int(utROI[1] + utROI[3]) and j > int(utROI[0]) and j < int(utROI[0] + utROI[2]): # Ajustar al Roi\n",
    "                    if maskmatrix[q][k][j] > 0:\n",
    "                        countmesh += 1 \n",
    "                        # TENER CUIDADO QUE ACA ESTOY EN UN SOLO TIEMPO (OBVIO EN EL ULTIMO)\n",
    "                        pclean = [coordx, coordy, sorted_image_list[q * sl_n_imgs].imgposition[2]]\n",
    "                        pmesh.append(pclean) # Podemos forzar etiquetas o podemos obtener etiquetas por defecto\n",
    "                coordx = coordx + sorted_image_list[q * sl_n_imgs].pxspacingx\n",
    "            coordy = coordy + sorted_image_list[q * sl_n_imgs].pxspacingy\n",
    "                    # print(pclean)\n",
    "    # slice_points.append(countmesh) \n",
    "    # slice_cells.append(countmesh//4)\n",
    "\n",
    "print(pmesh)"
   ]
  },
  {
   "cell_type": "code",
   "execution_count": null,
   "metadata": {},
   "outputs": [],
   "source": [
    "# Se obtienen las coordenadas limpias de cada uno de los puntos de valor alto post filtro sobel\n",
    "slice_points, slice_cells = [], []\n",
    "for q in range (slice_qtt):\n",
    "    # ESTA LINEA ES LO MAS NEFASTO DEL UNIVERSO PERO NECESITO SABER\n",
    "    if sorted_image_list[q * sl_n_imgs].imgposition[2] >= -44.19343 and sorted_image_list[q * sl_n_imgs].imgposition[2] <= -31.0219: #VALORES SACADOS DE PARAVIEW\n",
    "        for j in range(height):\n",
    "            for k in range(width):\n",
    "                # print(utROI[3])\n",
    "                if k > int(utROI[1]) and k < int(utROI[1] + utROI[3]) and j > int(utROI[0]) and j < int(utROI[0] + utROI[2]): # Ajustar al Roi\n",
    "                    if maskmatrix[q][k][j] > 0:\n",
    "                        countmesh += 1\n",
    "                        pclean = [j, k, q]\n",
    "                        pmesh.append(pclean) # Podemos forzar etiquetas o podemos obtener etiquetas por defecto\n",
    "                        # print(pclean)\n"
   ]
  },
  {
   "cell_type": "code",
   "execution_count": null,
   "metadata": {},
   "outputs": [],
   "source": [
    "print(pclean)"
   ]
  },
  {
   "cell_type": "code",
   "execution_count": null,
   "metadata": {},
   "outputs": [],
   "source": [
    "# Generación de arreglo vectorial para cada punto y csv correspondiente\n",
    "vector_array = np.ndarray((countmesh,3)) # Definir point_qtt\n",
    "counter = 0 \n",
    "for q in range(slice_qtt):\n",
    "    # ESTA LINEA ES LO MAS NEFASTO DEL UNIVERSO PERO NECESITO SABER\n",
    "    if sorted_image_list[q * sl_n_imgs].imgposition[2] >= -44.19343 and sorted_image_list[q * sl_n_imgs].imgposition[2] <= -31.0219: #VALORES SACADOS DE PARAVIEW\n",
    "        for j in range(height): \n",
    "                for k in range(width): \n",
    "                    if k > float(utROI[1]) and k < float(utROI[1] + utROI[3]) and j > float(utROI[0]) and j < float(utROI[0] + utROI[2]): # Ajustar al Roi\n",
    "                            if maskmatrix[q][k][j] > 0: \n",
    "                                vector_x = sorted_image_list[((q*sl_n_imgs)+img_by_type*1)].img[k,j]\n",
    "                                vector_y = sorted_image_list[((q*sl_n_imgs)+img_by_type*2)].img[k,j]\n",
    "                                vector_z = sorted_image_list[((q*sl_n_imgs)+img_by_type*3)].img[k,j]\n",
    "                                vector_array[counter] = [vector_x, vector_y , vector_z]\n",
    "                                counter += 1\n",
    "\n"
   ]
  },
  {
   "cell_type": "code",
   "execution_count": null,
   "metadata": {},
   "outputs": [],
   "source": [
    "min = 1000000\n",
    "for q in range(slice_qtt):\n",
    "    # ESTA LINEA ES LO MAS NEFASTO DEL UNIVERSO PERO NECESITO SABER\n",
    "    if sorted_image_list[q * sl_n_imgs].imgposition[2] < min:\n",
    "        min = sorted_image_list[q * sl_n_imgs].imgposition[2]\n",
    "\n",
    "print(min)\n"
   ]
  },
  {
   "cell_type": "code",
   "execution_count": null,
   "metadata": {},
   "outputs": [],
   "source": [
    "print(sl_n_imgs)"
   ]
  },
  {
   "cell_type": "code",
   "execution_count": null,
   "metadata": {},
   "outputs": [],
   "source": [
    "# Generación de arreglo vectorial para cada punto y csv correspondiente\n",
    "countercsv = 0\n",
    "for q in range(slice_qtt):\n",
    "    # ESTA LINEA ES LO MAS NEFASTO DEL UNIVERSO PERO NECESITO SABER\n",
    "    if sorted_image_list[q * sl_n_imgs].imgposition[2] == min: #VALORES SACADOS DE PARAVIEW\n",
    "        for ph in range(sl_n_imgs):\n",
    "            counter = 0\n",
    "            # print(ph)\n",
    "            vector_array = np.ndarray((countmesh,3)) # Definir point_qtt\n",
    "            for j in range(height):\n",
    "                    for k in range(width):\n",
    "                        if k > float(utROI[1]) and k < float(utROI[1] + utROI[3]) and j > float(utROI[0]) and j < float(utROI[0] + utROI[2]): # Ajustar al Roi\n",
    "                                if maskmatrix[q][k][j] > 0: \n",
    "                                    vector_x = sorted_image_list[((q*(ph+1))+img_by_type*1)].img[k,j]\n",
    "                                    vector_y = sorted_image_list[((q*(ph+1))+img_by_type*2)].img[k,j]\n",
    "                                    vector_z = sorted_image_list[((q*(ph+1))+img_by_type*3)].img[k,j]\n",
    "                                    vector_array[counter] = [vector_x, vector_y , vector_z]\n",
    "                                    counter += 1\n",
    "            csvname =  \"C:\\\\Users\\\\mpaul\\\\Documents\\\\FUESMEN\\\\phasesOpenFoam\\\\\" + str(countercsv) + \".csv\" \n",
    "            hola = pd.DataFrame(vector_array)\n",
    "            hola.to_csv(csvname)\n",
    "            # print(csvname)\n",
    "            countercsv += 1\n"
   ]
  },
  {
   "cell_type": "code",
   "execution_count": null,
   "metadata": {},
   "outputs": [],
   "source": [
    "csvnamepmax =  \"C:\\\\Users\\\\mpaul\\\\Documents\\\\FUESMEN\\\\phasesOpenFoam\\\\\" + str(20-1) + \".csv\" #(sl_n_imgs)\n",
    "pMax = pd.read_csv(csvnamepmax, header=None, usecols=[1,2,3])\n",
    "pMaxnp = pMax.to_numpy()\n",
    "counterp = 0\n",
    "\n",
    "for i in reversed(range(20)):\n",
    "    csvnamep =  \"C:\\\\Users\\\\mpaul\\\\Documents\\\\FUESMEN\\\\phasesOpenFoam\\\\\" + str(i) + \".csv\" \n",
    "    if i != 0:\n",
    "        csvnamepprev =  \"C:\\\\Users\\\\mpaul\\\\Documents\\\\FUESMEN\\\\phasesOpenFoam\\\\\" + str(i-1) + \".csv\" \n",
    "    pAct = pd.read_csv(csvnamep, header=None, usecols=[1,2,3])\n",
    "    pActnp = pAct.to_numpy()\n",
    "    pPrev = pd.read_csv(csvnamepprev, header=None, usecols=[1,2,3])\n",
    "    # print(pActnp)\n",
    "    pPrevnp = pPrev.to_numpy()\n",
    "    x = int(np.shape(pActnp)[0])\n",
    "    y = int(np.shape(pActnp)[1])\n",
    "    # print(\"x:\", x, \"y:\", y)\n",
    "    parray = np.ndarray((x,y))\n",
    "    for k in range(y):\n",
    "        for l in range(x):\n",
    "            if i == 0:\n",
    "                parray[l,k] = pActnp[l,k] - pMaxnp[l,k]\n",
    "            else:\n",
    "                parray[l,k] = pActnp[l,k] - pPrevnp[l,k]\n",
    "            print(parray)\n",
    "    csvnamep =  \"C:\\\\Users\\\\mpaul\\\\Documents\\\\FUESMEN\\\\pressuresOpenFoam\\\\\" + str(counterp) + \".csv\" \n",
    "    holap = pd.DataFrame(parray)\n",
    "    holap.to_csv(csvnamep, header=None, index=False)\n",
    "    counterp += 1\n",
    "\n",
    "            # print(csvname)\n",
    "            \n"
   ]
  },
  {
   "cell_type": "code",
   "execution_count": null,
   "metadata": {},
   "outputs": [],
   "source": [
    "numero = 1\n",
    "string = \"C:\\\\Users\\\\mpaul\\\\Documents\\\\FUESMEN\" + str(numero)\n",
    "print(string)"
   ]
  },
  {
   "cell_type": "code",
   "execution_count": null,
   "metadata": {},
   "outputs": [],
   "source": [
    "# COPIA CON LA UBICACION CON RESPECTO A ISOCENTRO Generación de arreglo vectorial para cada punto \n",
    "vector_array = np.ndarray((countmesh,3)) # Definir point_qtt\n",
    "counter = 0 \n",
    "for q in range(slice_qtt):\n",
    "    for j in range(height): \n",
    "            for k in range(width): \n",
    "                if k > float(utROI[1]) and k < float(utROI[1] + utROI[3]) and j > float(utROI[0]) and j < float(utROI[0] + utROI[2]): # Ajustar al Roi\n",
    "                        if maskmatrix[q][k][j] > 0: \n",
    "                            vector_x = sorted_image_list[((q*sl_n_imgs)+img_by_type*1)].img[k,j]\n",
    "                            vector_y = sorted_image_list[((q*sl_n_imgs)+img_by_type*2)].img[k,j]\n",
    "                            vector_z = sorted_image_list[((q*sl_n_imgs)+img_by_type*3)].img[k,j]\n",
    "                            vector_array[counter] = [vector_x, vector_y , vector_z]\n",
    "                            counter += 1"
   ]
  },
  {
   "cell_type": "code",
   "execution_count": null,
   "metadata": {},
   "outputs": [],
   "source": [
    "# ARMO LOS VECTORES EN PYVISTA\n",
    "scalar_array = [10]*countmesh\n",
    "points = np.asarray(pmesh)\n",
    "point_cloud = pv.PolyData(points)\n",
    "\n",
    "'''raul = point_cloud.reconstruct_surface(nbr_sz = 10)\n",
    "\n",
    "pl = pv.Plotter(shape=(1,2))\n",
    "pl.add_mesh(point_cloud)\n",
    "pl.add_title('Point Cloud of 3D Surface')\n",
    "pl.subplot(0,1)\n",
    "pl.add_mesh(raul, color=True, show_edges=True)\n",
    "pl.add_title('Reconstructed Surface')\n",
    "pl.show()'''\n",
    "\n",
    "# point_cloud['vectors'] = vector_array\n",
    "\n",
    "# MESH\n",
    "mesh = point_cloud.delaunay_3d(alpha=1.4) \n",
    "plotter = pv.Plotter()\n",
    "actor = plotter.add_mesh(mesh, color='red')\n",
    "plotter.show()\n",
    "\n",
    "# glyphs = mesh.glyph(orient=\"vectors\", scale=False, factor=0.9) #A LO MEJOR NOS TOQUE CAMBIAR EL FACTOR\n",
    "# grid = glyphs.cast_to_unstructured_grid()"
   ]
  },
  {
   "cell_type": "code",
   "execution_count": null,
   "metadata": {},
   "outputs": [],
   "source": [
    "pl = pv.Plotter()\n",
    "pl.add_mesh(mesh, color=\"grey\", ambient=0.6, opacity=0.1, show_edges=False)\n",
    "pl.add_mesh(grid,  lighting=False, scalar_bar_args={'title': \"Vector Magnitude\"})\n",
    "pl.show()"
   ]
  },
  {
   "cell_type": "code",
   "execution_count": null,
   "metadata": {},
   "outputs": [],
   "source": [
    "# https://gitlab.onelab.info/gmsh/gmsh/-/issues/1000\n",
    "\"\"\"ESTA LINEA ES LA QUE VA 14/4/22\"\"\"\n",
    "import gmsh\n",
    "\n",
    "gmsh.initialize()\n",
    "\n",
    "i=0\n",
    "for [x, y, z] in pmesh:\n",
    "    gmsh.model.occ.addPoint(x, y, z, tag=i)\n",
    "    # las lineas de addline funcionan, pero deberia hacer la limpieza antes\n",
    "    # if i > 0:\n",
    "    #     gmsh.model.occ.addLine(startTag= i-1, endTag = i)\n",
    "    i = i+1\n",
    "\n",
    "# only synchronize after adding all the points to the model\n",
    "gmsh.model.occ.synchronize()\n",
    "\n",
    "gmsh.model.mesh.generate(1)\n",
    "gmsh.option.setNumber(\"Mesh.MshFileVersion\", 2.2)\n",
    "gmsh.write(\"model\" + \".msh\")\n",
    "\n",
    "gmsh.fltk.run()\n",
    "\n",
    "gmsh.finalize()"
   ]
  }
 ],
 "metadata": {
  "interpreter": {
   "hash": "8e75ecb29235e151cdfea9a2b9219187002a313844cc59cda68a002c68ad61f1"
  },
  "kernelspec": {
   "display_name": "Python 3 (ipykernel)",
   "language": "python",
   "name": "python3"
  },
  "language_info": {
   "codemirror_mode": {
    "name": "ipython",
    "version": 3
   },
   "file_extension": ".py",
   "mimetype": "text/x-python",
   "name": "python",
   "nbconvert_exporter": "python",
   "pygments_lexer": "ipython3",
   "version": "3.10.5"
  }
 },
 "nbformat": 4,
 "nbformat_minor": 2
}
